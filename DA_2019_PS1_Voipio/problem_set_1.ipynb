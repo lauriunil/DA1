{
 "cells": [
  {
   "cell_type": "code",
   "execution_count": 91,
   "metadata": {},
   "outputs": [
    {
     "name": "stdin",
     "output_type": "stream",
     "text": [
      "The number of throws? 10000\n",
      "What is the interval for printing (how many throws?): 1000\n"
     ]
    },
    {
     "name": "stdout",
     "output_type": "stream",
     "text": [
      "\n",
      "                                        Pi: 3.141593\n",
      "--------------------------------------------------------------------------------\n",
      "throws              hits                Monte Carlo         difference (%)      \n",
      "--------------------------------------------------------------------------------\n",
      "1000.000000         776.000000          3.104000            1.196611            \n",
      "2000.000000         1546.000000         3.092000            1.578583            \n",
      "3000.000000         2334.000000         3.112000            0.941963            \n",
      "4000.000000         3140.000000         3.140000            0.050696            \n",
      "5000.000000         3940.000000         3.152000            -0.331276           \n",
      "6000.000000         4744.000000         3.162667            -0.670807           \n",
      "7000.000000         5527.000000         3.158286            -0.531357           \n",
      "8000.000000         6289.000000         3.144500            -0.092544           \n",
      "9000.000000         7058.000000         3.136889            0.149725            \n",
      "10000.000000        7841.000000         3.136400            0.165287            \n"
     ]
    }
   ],
   "source": [
    "#ex 1\n",
    "#Lauri Voipio\n",
    "\n",
    "import random\n",
    "import math\n",
    "\n",
    "nOfThrows = int(input(\"The number of throws?\"))\n",
    "printInterval = int(input(\"What is the interval for printing (how many throws?):\"))\n",
    "def monteCarloAndPi(throws):\n",
    "    circleHits = 0\n",
    "    \n",
    "    def pointsGenerated(throws):\n",
    "        listOfPoints = []\n",
    "        for i in range (0, throws):\n",
    "            singlePoint = (random.random(),random.random())\n",
    "            listOfPoints.append(singlePoint)\n",
    "        #print(listOfPoints)    \n",
    "        return listOfPoints\n",
    "    runner = 0\n",
    "    possHits = 0\n",
    "    titles = [\"throws\", \"hits\", \"Monte Carlo\", \"difference (%)\"]\n",
    "    blanc = \" \"*40\n",
    "    piPrint = \"{:.6f}\".format(math.pi)\n",
    "    print()\n",
    "    print(blanc+\"Pi:\", piPrint)\n",
    "    separation = \"-\"*80\n",
    "    print(separation)\n",
    "    print('{:<20s}{:<20s}{:<20s}{:<20s}'.format(titles[0],titles[1],titles[2],titles[3])) \n",
    "    print(separation)\n",
    "    for possibleHit in pointsGenerated(throws):\n",
    "        runner += 1\n",
    "        possHits +=1\n",
    "        if ((possibleHit[0]**2 + possibleHit[1]**2) <= 1):\n",
    "            circleHits += 1\n",
    "            #print(circleHits)\n",
    "        if (runner == printInterval):\n",
    "            def accur(mCpi):\n",
    "                piVal = math.pi\n",
    "                ress = (1-mCpi/piVal)*100\n",
    "                return ress\n",
    "            monteCarloForPi = 4*circleHits/possHits\n",
    "            acc = accur(monteCarloForPi)\n",
    "            results = [possHits, circleHits, monteCarloForPi, acc]\n",
    "            print('{:<20f}{:<20f}{:<20f}{:<20f}'.format(results[0],results[1],results[2],results[3]))\n",
    "            runner=0\n",
    "monteCarloAndPi(nOfThrows)\n"
   ]
  },
  {
   "cell_type": "code",
   "execution_count": null,
   "metadata": {},
   "outputs": [],
   "source": []
  },
  {
   "cell_type": "markdown",
   "metadata": {},
   "source": [
    "## "
   ]
  },
  {
   "cell_type": "code",
   "execution_count": 207,
   "metadata": {},
   "outputs": [
    {
     "name": "stdin",
     "output_type": "stream",
     "text": [
      "The number of iterations? 10\n"
     ]
    },
    {
     "name": "stdout",
     "output_type": "stream",
     "text": [
      "tails\n",
      "tails\n",
      "tails\n",
      "heads\n",
      "heads\n",
      "tails\n",
      "heads\n",
      "tails\n",
      "heads\n",
      "tails\n",
      "4\n",
      "\n",
      "4  out of  10 (40.00%)  were heads.\n"
     ]
    }
   ],
   "source": [
    "# Ex 2 as asked\n",
    "\n",
    "# program prints the result for each toss, and stores value of heads.\n",
    "import random\n",
    "import math\n",
    "ran = int(input(\"The number of iterations?\"))\n",
    "heads = 0\n",
    "for i in range (0,ran):\n",
    "    r=round(random.random())\n",
    "    if (r==0):\n",
    "        print(\"heads\")\n",
    "        heads += 1\n",
    "    else:\n",
    "        print(\"tails\")\n",
    "        \n",
    "perc = heads / ran * 100\n",
    "print(heads)\n",
    "print()\n",
    "print(heads, \" out of \", ran, \"(\"+\"{0:.2f}\".format(perc)+\"%)\" ,\" were heads.\")"
   ]
  },
  {
   "cell_type": "code",
   "execution_count": 146,
   "metadata": {},
   "outputs": [
    {
     "name": "stdin",
     "output_type": "stream",
     "text": [
      "The number of iterations? 100\n"
     ]
    },
    {
     "name": "stdout",
     "output_type": "stream",
     "text": [
      "heads: 49.000 %\n",
      "tails 51.000 %\n",
      "tails = 1, heads = 0:\n",
      "Counter({'1': 51, '0': 49})\n"
     ]
    }
   ],
   "source": [
    "# Ex 2 extended\n",
    "\n",
    "# program counts both heads and tails in Counter and runs for big number of iterations even though it is not\n",
    "# exactly the program that was asked in the instructions as it doesn't print each round, and it stores\n",
    "# values both for heads and tails.\n",
    "\n",
    "from collections import Counter\n",
    "import random\n",
    "import math\n",
    "ran = int(input(\"The number of iterations?\"))\n",
    "counter = Counter()\n",
    "for i in range (0,ran):\n",
    "    r=round(random.random())\n",
    "    rin = str(r)\n",
    "    counter += Counter(rin)\n",
    "    \n",
    "calc = (counter.get(\"0\")/ran)*100\n",
    "calc2 = counter.get(\"1\")/ran*100\n",
    "#print(counter.get(\"0\"))\n",
    "print(\"heads:\", \"{0:.3f}\".format(calc),\"%\")\n",
    "print(\"tails\", \"{0:.3f}\".format(calc2),\"%\")\n",
    "print(\"tails = 1, heads = 0:\")\n",
    "print(counter)\n"
   ]
  },
  {
   "cell_type": "code",
   "execution_count": 6,
   "metadata": {},
   "outputs": [
    {
     "name": "stdout",
     "output_type": "stream",
     "text": [
      "\n",
      "Theory 1\n",
      "\n",
      "0.1667\n",
      "\n",
      "Theory 2\n",
      "\n",
      "0.0007716049382716048\n",
      "\n",
      "Theory 3\n",
      "\n",
      "0.1667\n"
     ]
    },
    {
     "name": "stdin",
     "output_type": "stream",
     "text": [
      "number of tosses to simulate the average probability: 500\n"
     ]
    },
    {
     "name": "stdout",
     "output_type": "stream",
     "text": [
      "\n",
      "\n",
      "Simulation 1\n",
      "\n",
      "\n",
      "you got 52 times 6 out ouf 500\n",
      "probability of getting 6 is: 0.104 %\n",
      "the difference between theory and simulation was: 37.60 %\n",
      "\n",
      "Simulation 2\n",
      "\n"
     ]
    },
    {
     "name": "stdin",
     "output_type": "stream",
     "text": [
      "number of tosses: 500\n"
     ]
    },
    {
     "name": "stdout",
     "output_type": "stream",
     "text": [
      "\n",
      "\n",
      "The probability of getting a 6 from a dice 500 times in a row is 0.0000 %\n",
      "\n",
      "Simulation 3\n",
      "\n",
      "\n",
      "0.0\n",
      "The probability of getting a 6 from a dice on a fourth throw 500 times in a row is 0.\n"
     ]
    }
   ],
   "source": [
    "# ex 3\n",
    "\n",
    "from random import randint\n",
    "from functools import reduce\n",
    "\n",
    "# Theory 1\n",
    "# The theoretical probabilty of getting a 6:\n",
    "print()\n",
    "print(\"Theory 1\")\n",
    "print()\n",
    "theWishedOutcome1 = 1 #there is only 1 number 6 in a dice\n",
    "theNumberOfPossibilities1 = 6\n",
    "oneDice = theWishedOutcome1/theNumberOfPossibilities1\n",
    "print(\"{0:.4f}\".format(oneDice))\n",
    "\n",
    "# Theory 2\n",
    "# The theoretical probability of getting a 6 four times in a row:\n",
    "# This is same as the one dice but four times:\n",
    "# (1/6)*(1/6)*(1/6)*(1/6) = (1/6)^4\n",
    "print()\n",
    "print(\"Theory 2\")\n",
    "print()\n",
    "fourRuns = oneDice**4\n",
    "print(fourRuns)\n",
    "\n",
    "# Theory 3\n",
    "# As the question is formatted, the previous tosses doesn't affect the result of the\n",
    "# fourth toss and so the theory for the fourth toss is same as in the \"Theory 1\":\n",
    "# So overall the wanted series is 6,6,6,6 and the overall series is 6,6,6,x in which\n",
    "# x is any value between 1,6. This results in probability ≈ 1/6\n",
    "\n",
    "print()\n",
    "print(\"Theory 3\")\n",
    "print()\n",
    "\n",
    "# The theoretical probabilty of getting a 6:\n",
    "theWishedOutcome3 = 1 #there is only 1 number 6 in a dice\n",
    "theNumberOfPossibilities3 = 6\n",
    "oneDice = theWishedOutcome3/theNumberOfPossibilities3\n",
    "print(\"{0:.4f}\".format(oneDice))\n",
    "\n",
    "# Theory 4\n",
    "# As the question is formatted, the previous tosses doesn't affect the result of the\n",
    "# fourth toss and so the theory for the fourth toss is same as in the \"Theory 1\":\n",
    "# So overall the wanted series is 6,6,6,...,6(n=101) and the overall series is 6,6,6,...,x (n=101) in which\n",
    "# x is any value between 1,6. This results in probability ≈ 1/6.\n",
    "\n",
    "# As a note, at this point I would assume the dice to be broken if you have gotten 100 times\n",
    "# six in a row\n",
    "\n",
    "#We're using the same number of tosses in the simulations\n",
    "leng = int(input(\"number of tosses to simulate the average probability:\"))\n",
    "\n",
    "\n",
    "#-------------------------- SIMULATIONS ---------------------------#\n",
    "\n",
    "#Simulation 1\n",
    "print()\n",
    "print()\n",
    "print(\"Simulation 1\")\n",
    "print()\n",
    "runs1 = 0\n",
    "res1 = 0\n",
    "for i in range (0, leng):\n",
    "    runs1 +=1\n",
    "    r = randint(0,6)\n",
    "    if (r==6):\n",
    "        res1 += 1\n",
    "simu1 = res1/runs1\n",
    "difference1 = abs((1-(simu1 / oneDice))* 100)\n",
    "print()\n",
    "print(\"you got\", res1, \"times 6 out ouf\", runs1)\n",
    "print(\"probability of getting 6 is:\",simu1,\"%\")\n",
    "print(\"the difference between theory and simulation was:\",\"{0:.2f}\".format(difference1),\"%\")\n",
    "\n",
    "\n",
    "\n",
    "#Simulation 2\n",
    "\n",
    "print()\n",
    "print(\"Simulation 2\")\n",
    "print()\n",
    "num = int(input(\"number of tosses:\"))\n",
    "print()\n",
    "def throws(number):\n",
    "    runs2 = 0\n",
    "    res2 = 0\n",
    "    resTot2 = []\n",
    "    if (number >=1):\n",
    "        for n in range (0,number):\n",
    "            runs2 = 0\n",
    "            res2 = 0\n",
    "            for i in range(0,leng):\n",
    "                runs2 +=1\n",
    "                r=randint(0,6)\n",
    "                if (r==6):\n",
    "                    res2+=1\n",
    "            simu2=res2/runs2\n",
    "            resTot2.append(simu2)\n",
    "    result = (reduce(lambda x, y: x*y, resTot2))*100\n",
    "    print(\"The probability of getting a 6 from a dice\", num, \"times in a row is\",\"{0:.4f}\".format(result),\"%\")\n",
    "    \n",
    "print()\n",
    "throws(num)\n",
    "\n",
    "#Simulation 3\n",
    "\n",
    "print()\n",
    "print(\"Simulation 3\")\n",
    "print()\n",
    "def throws(number):\n",
    "    runs3 = 0\n",
    "    res3 = 0\n",
    "    resTot31 = []\n",
    "    if (number >=1):\n",
    "        for n in range (0,number):\n",
    "            runs2 = 0\n",
    "            res2 = 0\n",
    "            for i in range(0,leng):\n",
    "                runs3 +=1\n",
    "                r=randint(0,6)\n",
    "                if (r==6):\n",
    "                    res3+=1\n",
    "            simu3=res3/runs3\n",
    "            resTot31.append(simu3)\n",
    "            \n",
    "    result31 = (reduce(lambda x, y: x*y, resTot31))*100\n",
    "    resTot32 = resTot31[:-1]\n",
    "    resTot32.append(1)\n",
    "    result32 = (reduce(lambda x, y: x*y, resTot32))*100\n",
    "    if (result32 == 0):\n",
    "        print(\"The probability of getting a 6 from a dice on a fourth throw\", num, \"times in a row is 0.\")\n",
    "    else:\n",
    "        result3 = (result31/result32)\n",
    "        difference3 = (1-abs(result3/oneDice))*100\n",
    "        print(\"The probability of getting a 6 from a dice on a fourth throw\", num, \"times in a row is\",\"{0:.4f}\".format(result3),\"%\")\n",
    "        print(\"the difference between theory and simulation was:\",\"{0:.2f}\".format(difference3),\"%\")\n",
    "print()\n",
    "throws(num)\n"
   ]
  },
  {
   "cell_type": "code",
   "execution_count": 176,
   "metadata": {},
   "outputs": [
    {
     "name": "stdin",
     "output_type": "stream",
     "text": [
      "How many times you throw the two dices? 10000\n"
     ]
    },
    {
     "name": "stdout",
     "output_type": "stream",
     "text": [
      "---------------------------------------------------------------------------\n",
      "value          frequency      tested prob    exact prob     difference (%) \n",
      "---------------------------------------------------------------------------\n",
      "3.000000       570.000000     0.057000       0.055556       2.600000       \n",
      "4.000000       832.000000     0.083200       0.083333       0.160000       \n",
      "5.000000       1054.000000    0.105400       0.111111       5.140000       \n",
      "6.000000       1416.000000    0.141600       0.138889       1.952000       \n",
      "7.000000       1641.000000    0.164100       0.166667       1.540000       \n",
      "8.000000       1357.000000    0.135700       0.138889       2.296000       \n",
      "9.000000       1090.000000    0.109000       0.111111       1.900000       \n",
      "10.000000      849.000000     0.084900       0.083333       1.880000       \n",
      "11.000000      585.000000     0.058500       0.055556       5.300000       \n",
      "12.000000      301.000000     0.030100       0.027778       8.360000       \n"
     ]
    }
   ],
   "source": [
    "# ex 4\n",
    "import random\n",
    "throwDice = int(input(\"How many times you throw the two dices?\"))\n",
    "exactProbabilities = {2:1/36,3:2/36,4:3/36,5:4/36,6:5/36,7:6/36,8:5/36,9:4/36,10:3/36,11:2/36,12:1/36}\n",
    "values = [2,3,4,5,6,7,8,9,10,11,12]\n",
    "freq = {2:0,3:0,4:0,5:0,6:0,7:0,8:0,9:0,10:0,11:0,12:0}\n",
    "def throw():\n",
    "    dice = random.randint(1,6)\n",
    "    return dice\n",
    "for i in range(0, throwDice):\n",
    "    sumOfDices = throw() + throw()\n",
    "    freq[sumOfDices]+=1\n",
    "\n",
    "#differences\n",
    "differences = []\n",
    "resultedProb =[]\n",
    "\n",
    "for i in range (0, len(values)):\n",
    "    resultedProb.append(freq[values[i]]/throwDice)\n",
    "    differences.append(abs(((freq[values[i]]/throwDice)-exactProbabilities[values[i]])/exactProbabilities[values[i]]) * 100)\n",
    "    \n",
    "#printout\n",
    "separation =\"-\"*75\n",
    "titles =[\"value\", \"frequency\", \"tested prob\", \"exact prob\", \"difference (%)\"]\n",
    "for i in range (0, len(values)):\n",
    "    if (i == 0):\n",
    "        print(separation)\n",
    "        print('{:<15s}{:<15s}{:<15s}{:<15s}{:<15s}'.format(titles[0], titles[1], titles[2], titles[3], titles[4]))\n",
    "        print(separation)\n",
    "    else:\n",
    "        print('{:<15f}{:<15f}{:<15f}{:<15f}{:<15f}'.format(values[i],freq[values[i]], resultedProb[i],exactProbabilities[values[i]],differences[i]))\n"
   ]
  },
  {
   "cell_type": "code",
   "execution_count": 132,
   "metadata": {},
   "outputs": [
    {
     "name": "stdin",
     "output_type": "stream",
     "text": [
      "The interval is 1/X of a second: 300\n"
     ]
    },
    {
     "data": {
      "text/plain": [
       "Text(0, 0.5, ' m/s^2')"
      ]
     },
     "execution_count": 132,
     "metadata": {},
     "output_type": "execute_result"
    },
    {
     "data": {
      "image/png": "[encoded data removed]",
      "text/plain": [
       "<Figure size 432x288 with 2 Axes>"
      ]
     },
     "metadata": {
      "needs_background": "light"
     },
     "output_type": "display_data"
    },
    {
     "data": {
      "image/png": "[encoded data removed]",
      "text/plain": [
       "<Figure size 432x288 with 1 Axes>"
      ]
     },
     "metadata": {
      "needs_background": "light"
     },
     "output_type": "display_data"
    }
   ],
   "source": [
    "# ex 5\n",
    "import matplotlib.pyplot as plt\n",
    "import numpy as np\n",
    "initial = int(input(\"The interval is 1/X of a second:\"))\n",
    "interval = float(1/initial) \n",
    "fileN = \"dat/gauge.dat\"\n",
    "file = np.loadtxt(fileN)\n",
    "eta = []\n",
    "height = []\n",
    "velocity = []\n",
    "acceleration = []\n",
    "for i in range(0, len(file)-1):\n",
    "    eta.append(file[i])\n",
    "    height.append(h[i]+interval)\n",
    "    velocity.append((file[i+1]-file[i-1])/(interval * 2))\n",
    "    acceleration.append((file[i+1]-2*file[i]+file[i-1])/(interval)**2)\n",
    "    \n",
    "plt.figure(1)\n",
    "plt.subplot(211)\n",
    "plt.plot(height[:], eta, 'ro', color=\"green\")\n",
    "plt.xlabel(\"seconds\")\n",
    "plt.ylabel(\"Sea level\")\n",
    "\n",
    "plt.subplot(212)\n",
    "plt.plot(height[:], velocity, 'ro', color=\"blue\")\n",
    "plt.xlabel(\"seconds\")\n",
    "plt.ylabel(\"m/s\")\n",
    "\n",
    "plt.figure(2)\n",
    "plt.subplot(111)\n",
    "plt.plot(height[:], acceleration, 'ro', color=\"black\")\n",
    "plt.xlabel(\"seconds\")\n",
    "plt.ylabel(\" m/s^2\")"
   ]
  },
  {
   "cell_type": "code",
   "execution_count": 173,
   "metadata": {},
   "outputs": [],
   "source": [
    "# ex 6\n",
    "#did not do ex 6"
   ]
  },
  {
   "cell_type": "code",
   "execution_count": 16,
   "metadata": {},
   "outputs": [
    {
     "name": "stdout",
     "output_type": "stream",
     "text": [
      "------------------------------------------------\n",
      "Nominal     Ordinal                 Numerical                           \n",
      "------------------------------------------------\n",
      "Category    Energy Efficiency       Price                               \n",
      "Brand                               kWh/Jahr                            \n",
      "                                    Weight                              \n",
      "                                    Sales                               \n",
      "The original dataset:\n",
      "[['Freezer', 699, 210, 'A', 99, 'Mühle', 27.96], ['Washing machine', 399, 302, 'B', 50, 'Boss', 99, 75], ['Freezer', 779, 475, 'C', 75, 'Nerd', 33.558], ['Washing machine', 989, 705, 'E', 125, 'Prolet', 3.996], ['tableware dryer', 199, 790, 'D', 42, 'Boss', 2.786], ['tableware dryer', 479, 810, 'D', 37, 'Mühle', 21.076]]\n",
      "\n",
      "The enumerated listing:\n",
      "[[1, 699, 210, 1, 99, 1, 27.96], [2, 399, 302, 2, 50, 2, 99, 75], [1, 779, 475, 3, 75, 3, 33.558], [2, 989, 705, 5, 125, 4, 3.996], [3, 199, 790, 4, 42, 2, 2.786], [3, 479, 810, 4, 37, 1, 21.076]]\n",
      "\n",
      "and their references:\n",
      "{1: 'Freezer', 2: 'Washing machine', 3: 'tableware dryer'}\n",
      "{1: 'A', 2: 'B', 3: 'C', 5: 'E', 4: 'D'}\n",
      "{1: 'Mühle', 2: 'Boss', 3: 'Nerd', 4: 'Prolet'}\n"
     ]
    }
   ],
   "source": [
    "# ex 7 a\n",
    "table = [\n",
    "    [\"Nominal\", \"Ordinal\", \"Numerical\"],\n",
    "    [\"Category\", \"Energy Efficiency\", \"Price\"],\n",
    "    [\"Brand\", \"\", \"kWh/Jahr\"],\n",
    "    [\"\", \"\", \"Weight\"],\n",
    "    [\"\", \"\", \"Sales\"\n",
    "    ]\n",
    "]\n",
    "separation = \"-\"*48\n",
    "for i in range (0,5):\n",
    "    if (i == 0):\n",
    "        print(separation)\n",
    "        print('{:<12s}{:<24s}{:<36s}'.format(table[i][0],table[i][1],table[i][2]))\n",
    "        print(separation)\n",
    "    else:\n",
    "        print('{:<12s}{:<24s}{:<36s}'.format(table[i][0],table[i][1],table[i][2]))\n",
    "        \n",
    "# ex 7 b\n",
    "\n",
    "tableListing = [\n",
    "    [\"Freezer\", 699, 210, \"A\", 99, \"Mühle\", 27.96],\n",
    "    [\"Washing machine\", 399, 302, \"B\", 50, \"Boss\", 99,75],\n",
    "    [\"Freezer\", 779, 475, \"C\", 75, \"Nerd\", 33.558],\n",
    "    [\"Washing machine\", 989, 705, \"E\", 125, \"Prolet\", 3.996],\n",
    "    [\"tableware dryer\", 199, 790, \"D\", 42, \"Boss\", 2.786],\n",
    "    [\"tableware dryer\", 479, 810, \"D\", 37, \"Mühle\", 21.076]\n",
    "               ]\n",
    "print(\"The original dataset:\")\n",
    "print(tableListing)\n",
    "print()\n",
    "dictName ={}\n",
    "dictEff ={}\n",
    "dictBrand ={}\n",
    "for i in range (0,6):\n",
    "    if (tableListing[i][0] == \"Freezer\"):\n",
    "        dictName.update({1: \"Freezer\"})\n",
    "        tableListing[i][0] = 1\n",
    "    elif (tableListing[i][0] == \"Washing machine\"):\n",
    "        dictName.update({2: \"Washing machine\"})\n",
    "        tableListing[i][0] = 2\n",
    "    elif (tableListing[i][0] == \"tableware dryer\"):\n",
    "        dictName.update({3: \"tableware dryer\"})\n",
    "        tableListing[i][0] = 3\n",
    "        \n",
    "    if (tableListing[i][3] == \"A\"):\n",
    "        dictEff.update({1: \"A\"})\n",
    "        tableListing[i][3] = 1\n",
    "        \n",
    "    elif (tableListing[i][3] == \"B\"):\n",
    "        dictEff.update({2: \"B\"})\n",
    "        tableListing[i][3] = 2\n",
    "        \n",
    "    elif (tableListing[i][3] == \"C\"):\n",
    "        dictEff.update({3: \"C\"})\n",
    "        tableListing[i][3] = 3\n",
    "    elif (tableListing[i][3] == \"D\"):\n",
    "        dictEff.update({4: \"D\"})\n",
    "        tableListing[i][3] = 4\n",
    "    elif (tableListing[i][3] == \"E\"):\n",
    "        dictEff.update({5: \"E\"})\n",
    "        tableListing[i][3] = 5\n",
    "        \n",
    "    if (tableListing[i][5] == \"Mühle\"):\n",
    "        dictBrand.update({1: \"Mühle\"})\n",
    "        tableListing[i][5] = 1\n",
    "    elif (tableListing[i][5] == \"Boss\"):\n",
    "        dictBrand.update({2: \"Boss\"})\n",
    "        tableListing[i][5] = 2\n",
    "    elif (tableListing[i][5] == \"Nerd\"):\n",
    "        dictBrand.update({3: \"Nerd\"})\n",
    "        tableListing[i][5] = 3\n",
    "    elif (tableListing[i][5] == \"Prolet\"):\n",
    "        dictBrand.update({4: \"Prolet\"})\n",
    "        tableListing[i][5] = 4\n",
    "print(\"The enumerated listing:\")\n",
    "print(tableListing)\n",
    "print()\n",
    "print(\"and their references:\")\n",
    "print(dictName)\n",
    "print(dictEff)\n",
    "print(dictBrand)\n"
   ]
  },
  {
   "cell_type": "code",
   "execution_count": 125,
   "metadata": {},
   "outputs": [],
   "source": [
    "# ex 8 & 9\n",
    "\n",
    "# Did not do.\n"
   ]
  }
 ],
 "metadata": {
  "kernelspec": {
   "display_name": "Python 3",
   "language": "python",
   "name": "python3"
  },
  "language_info": {
   "codemirror_mode": {
    "name": "ipython",
    "version": 3
   },
   "file_extension": ".py",
   "mimetype": "text/x-python",
   "name": "python",
   "nbconvert_exporter": "python",
   "pygments_lexer": "ipython3",
   "version": "3.6.8"
  }
 },
 "nbformat": 4,
 "nbformat_minor": 2
}
